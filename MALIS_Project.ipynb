{
  "nbformat": 4,
  "nbformat_minor": 0,
  "metadata": {
    "colab": {
      "name": "MALIS_Project.ipynb",
      "provenance": [],
      "collapsed_sections": []
    },
    "kernelspec": {
      "name": "python3",
      "display_name": "Python 3"
    },
    "language_info": {
      "name": "python"
    }
  },
  "cells": [
    {
      "cell_type": "markdown",
      "source": [
        "Main database Link : \n",
        "https://archive.ics.uci.edu/ml/datasets/AI4I+2020+Predictive+Maintenance+Dataset"
      ],
      "metadata": {
        "id": "XiELL4u8e81J"
      }
    },
    {
      "cell_type": "code",
      "source": [
        "from google.colab import drive\n",
        "drive.mount('/content/drive')"
      ],
      "metadata": {
        "colab": {
          "base_uri": "https://localhost:8080/"
        },
        "id": "e2pSbt-VvBf_",
        "outputId": "2937a6e5-d9b1-4d81-a70a-649f7a6d50e6"
      },
      "execution_count": null,
      "outputs": [
        {
          "output_type": "stream",
          "name": "stdout",
          "text": [
            "Drive already mounted at /content/drive; to attempt to forcibly remount, call drive.mount(\"/content/drive\", force_remount=True).\n"
          ]
        }
      ]
    },
    {
      "cell_type": "code",
      "source": [
        "import pandas as pd\n",
        "import matplotlib.pyplot as plt\n",
        "import numpy as np\n",
        "from sklearn.model_selection import train_test_split\n",
        "from sklearn.linear_model import LogisticRegression\n",
        "from sklearn.preprocessing import PolynomialFeatures"
      ],
      "metadata": {
        "id": "uMTVdT2BN9l2"
      },
      "execution_count": null,
      "outputs": []
    },
    {
      "cell_type": "code",
      "execution_count": null,
      "metadata": {
        "id": "vBFgtys4Jjas"
      },
      "outputs": [],
      "source": [
        "df = pd.read_csv('/content/drive/MyDrive/MALIS/project/data/ai4i2020.csv')"
      ]
    },
    {
      "cell_type": "code",
      "source": [
        "df.dtypes"
      ],
      "metadata": {
        "id": "bH6zxUcOO_XR",
        "colab": {
          "base_uri": "https://localhost:8080/"
        },
        "outputId": "09ce0249-a09f-4b04-9bd3-86eb57a8005a"
      },
      "execution_count": null,
      "outputs": [
        {
          "output_type": "execute_result",
          "data": {
            "text/plain": [
              "UDI                          int64\n",
              "Product ID                  object\n",
              "Type                        object\n",
              "Air temperature [K]        float64\n",
              "Process temperature [K]    float64\n",
              "Rotational speed [rpm]       int64\n",
              "Torque [Nm]                float64\n",
              "Tool wear [min]              int64\n",
              "Machine failure              int64\n",
              "TWF                          int64\n",
              "HDF                          int64\n",
              "PWF                          int64\n",
              "OSF                          int64\n",
              "RNF                          int64\n",
              "dtype: object"
            ]
          },
          "metadata": {},
          "execution_count": 7
        }
      ]
    },
    {
      "cell_type": "code",
      "source": [
        "df.head"
      ],
      "metadata": {
        "id": "uRUHgR79Pck9",
        "colab": {
          "base_uri": "https://localhost:8080/"
        },
        "outputId": "f1c24ce3-7eb9-4072-e343-3c1c92407d09"
      },
      "execution_count": null,
      "outputs": [
        {
          "output_type": "execute_result",
          "data": {
            "text/plain": [
              "<bound method NDFrame.head of         UDI Product ID Type  Air temperature [K]  ...  HDF  PWF  OSF  RNF\n",
              "0         1     M14860    M                298.1  ...    0    0    0    0\n",
              "1         2     L47181    L                298.2  ...    0    0    0    0\n",
              "2         3     L47182    L                298.1  ...    0    0    0    0\n",
              "3         4     L47183    L                298.2  ...    0    0    0    0\n",
              "4         5     L47184    L                298.2  ...    0    0    0    0\n",
              "...     ...        ...  ...                  ...  ...  ...  ...  ...  ...\n",
              "9995   9996     M24855    M                298.8  ...    0    0    0    0\n",
              "9996   9997     H39410    H                298.9  ...    0    0    0    0\n",
              "9997   9998     M24857    M                299.0  ...    0    0    0    0\n",
              "9998   9999     H39412    H                299.0  ...    0    0    0    0\n",
              "9999  10000     M24859    M                299.0  ...    0    0    0    0\n",
              "\n",
              "[10000 rows x 14 columns]>"
            ]
          },
          "metadata": {},
          "execution_count": 8
        }
      ]
    },
    {
      "cell_type": "code",
      "source": [
        "df.describe()"
      ],
      "metadata": {
        "id": "spbGZ0uUPhPo",
        "colab": {
          "base_uri": "https://localhost:8080/",
          "height": 355
        },
        "outputId": "9832c38f-72b0-489f-d5a2-41bcec00af2d"
      },
      "execution_count": null,
      "outputs": [
        {
          "output_type": "execute_result",
          "data": {
            "text/html": [
              "<div>\n",
              "<style scoped>\n",
              "    .dataframe tbody tr th:only-of-type {\n",
              "        vertical-align: middle;\n",
              "    }\n",
              "\n",
              "    .dataframe tbody tr th {\n",
              "        vertical-align: top;\n",
              "    }\n",
              "\n",
              "    .dataframe thead th {\n",
              "        text-align: right;\n",
              "    }\n",
              "</style>\n",
              "<table border=\"1\" class=\"dataframe\">\n",
              "  <thead>\n",
              "    <tr style=\"text-align: right;\">\n",
              "      <th></th>\n",
              "      <th>UDI</th>\n",
              "      <th>Air temperature [K]</th>\n",
              "      <th>Process temperature [K]</th>\n",
              "      <th>Rotational speed [rpm]</th>\n",
              "      <th>Torque [Nm]</th>\n",
              "      <th>Tool wear [min]</th>\n",
              "      <th>Machine failure</th>\n",
              "      <th>TWF</th>\n",
              "      <th>HDF</th>\n",
              "      <th>PWF</th>\n",
              "      <th>OSF</th>\n",
              "      <th>RNF</th>\n",
              "    </tr>\n",
              "  </thead>\n",
              "  <tbody>\n",
              "    <tr>\n",
              "      <th>count</th>\n",
              "      <td>10000.00000</td>\n",
              "      <td>10000.000000</td>\n",
              "      <td>10000.000000</td>\n",
              "      <td>10000.000000</td>\n",
              "      <td>10000.000000</td>\n",
              "      <td>10000.000000</td>\n",
              "      <td>10000.000000</td>\n",
              "      <td>10000.000000</td>\n",
              "      <td>10000.000000</td>\n",
              "      <td>10000.000000</td>\n",
              "      <td>10000.000000</td>\n",
              "      <td>10000.00000</td>\n",
              "    </tr>\n",
              "    <tr>\n",
              "      <th>mean</th>\n",
              "      <td>5000.50000</td>\n",
              "      <td>300.004930</td>\n",
              "      <td>310.005560</td>\n",
              "      <td>1538.776100</td>\n",
              "      <td>39.986910</td>\n",
              "      <td>107.951000</td>\n",
              "      <td>0.033900</td>\n",
              "      <td>0.004600</td>\n",
              "      <td>0.011500</td>\n",
              "      <td>0.009500</td>\n",
              "      <td>0.009800</td>\n",
              "      <td>0.00190</td>\n",
              "    </tr>\n",
              "    <tr>\n",
              "      <th>std</th>\n",
              "      <td>2886.89568</td>\n",
              "      <td>2.000259</td>\n",
              "      <td>1.483734</td>\n",
              "      <td>179.284096</td>\n",
              "      <td>9.968934</td>\n",
              "      <td>63.654147</td>\n",
              "      <td>0.180981</td>\n",
              "      <td>0.067671</td>\n",
              "      <td>0.106625</td>\n",
              "      <td>0.097009</td>\n",
              "      <td>0.098514</td>\n",
              "      <td>0.04355</td>\n",
              "    </tr>\n",
              "    <tr>\n",
              "      <th>min</th>\n",
              "      <td>1.00000</td>\n",
              "      <td>295.300000</td>\n",
              "      <td>305.700000</td>\n",
              "      <td>1168.000000</td>\n",
              "      <td>3.800000</td>\n",
              "      <td>0.000000</td>\n",
              "      <td>0.000000</td>\n",
              "      <td>0.000000</td>\n",
              "      <td>0.000000</td>\n",
              "      <td>0.000000</td>\n",
              "      <td>0.000000</td>\n",
              "      <td>0.00000</td>\n",
              "    </tr>\n",
              "    <tr>\n",
              "      <th>25%</th>\n",
              "      <td>2500.75000</td>\n",
              "      <td>298.300000</td>\n",
              "      <td>308.800000</td>\n",
              "      <td>1423.000000</td>\n",
              "      <td>33.200000</td>\n",
              "      <td>53.000000</td>\n",
              "      <td>0.000000</td>\n",
              "      <td>0.000000</td>\n",
              "      <td>0.000000</td>\n",
              "      <td>0.000000</td>\n",
              "      <td>0.000000</td>\n",
              "      <td>0.00000</td>\n",
              "    </tr>\n",
              "    <tr>\n",
              "      <th>50%</th>\n",
              "      <td>5000.50000</td>\n",
              "      <td>300.100000</td>\n",
              "      <td>310.100000</td>\n",
              "      <td>1503.000000</td>\n",
              "      <td>40.100000</td>\n",
              "      <td>108.000000</td>\n",
              "      <td>0.000000</td>\n",
              "      <td>0.000000</td>\n",
              "      <td>0.000000</td>\n",
              "      <td>0.000000</td>\n",
              "      <td>0.000000</td>\n",
              "      <td>0.00000</td>\n",
              "    </tr>\n",
              "    <tr>\n",
              "      <th>75%</th>\n",
              "      <td>7500.25000</td>\n",
              "      <td>301.500000</td>\n",
              "      <td>311.100000</td>\n",
              "      <td>1612.000000</td>\n",
              "      <td>46.800000</td>\n",
              "      <td>162.000000</td>\n",
              "      <td>0.000000</td>\n",
              "      <td>0.000000</td>\n",
              "      <td>0.000000</td>\n",
              "      <td>0.000000</td>\n",
              "      <td>0.000000</td>\n",
              "      <td>0.00000</td>\n",
              "    </tr>\n",
              "    <tr>\n",
              "      <th>max</th>\n",
              "      <td>10000.00000</td>\n",
              "      <td>304.500000</td>\n",
              "      <td>313.800000</td>\n",
              "      <td>2886.000000</td>\n",
              "      <td>76.600000</td>\n",
              "      <td>253.000000</td>\n",
              "      <td>1.000000</td>\n",
              "      <td>1.000000</td>\n",
              "      <td>1.000000</td>\n",
              "      <td>1.000000</td>\n",
              "      <td>1.000000</td>\n",
              "      <td>1.00000</td>\n",
              "    </tr>\n",
              "  </tbody>\n",
              "</table>\n",
              "</div>"
            ],
            "text/plain": [
              "               UDI  Air temperature [K]  ...           OSF          RNF\n",
              "count  10000.00000         10000.000000  ...  10000.000000  10000.00000\n",
              "mean    5000.50000           300.004930  ...      0.009800      0.00190\n",
              "std     2886.89568             2.000259  ...      0.098514      0.04355\n",
              "min        1.00000           295.300000  ...      0.000000      0.00000\n",
              "25%     2500.75000           298.300000  ...      0.000000      0.00000\n",
              "50%     5000.50000           300.100000  ...      0.000000      0.00000\n",
              "75%     7500.25000           301.500000  ...      0.000000      0.00000\n",
              "max    10000.00000           304.500000  ...      1.000000      1.00000\n",
              "\n",
              "[8 rows x 12 columns]"
            ]
          },
          "metadata": {},
          "execution_count": 9
        }
      ]
    },
    {
      "cell_type": "markdown",
      "source": [
        "\n",
        "\n",
        "```\n",
        "# Ce texte est au format code\n",
        "```\n",
        "\n",
        "Let's first try to understand the data, and have a first look at the Tool Wear parameter. The tool wear is the number of consecutive minutes one tool has been used. When it goes down to 0 it means that the tool broke."
      ],
      "metadata": {
        "id": "t82xkvhYQqY6"
      }
    },
    {
      "cell_type": "code",
      "source": [
        "totalTime = [0]*10000\n",
        "for i in range(1,10000):\n",
        "  if df['Tool wear [min]'][i] == 0:\n",
        "    totalTime[i] = totalTime[i-1]+df['Tool wear [min]'][i]\n",
        "  else:\n",
        "    totalTime[i] = totalTime[i-1] + df['Tool wear [min]'][i]-df['Tool wear [min]'][i-1]\n",
        "#plt.plot(totalTime)\n",
        "df['totalTime'] = totalTime\n",
        "\n",
        "plt.figure()\n",
        "plt.title(\"Tool_Wear = f(t)\")\n",
        "plt.plot([df['totalTime'][i] for i in range(1000)], df['Tool wear [min]'][:1000])"
      ],
      "metadata": {
        "id": "qvxlmqGeQCiv",
        "colab": {
          "base_uri": "https://localhost:8080/",
          "height": 299
        },
        "outputId": "80a3e606-60ae-4ddf-b9eb-053006dab030"
      },
      "execution_count": null,
      "outputs": [
        {
          "output_type": "execute_result",
          "data": {
            "text/plain": [
              "[<matplotlib.lines.Line2D at 0x7f684eaf5590>]"
            ]
          },
          "metadata": {},
          "execution_count": 10
        },
        {
          "output_type": "display_data",
          "data": {
            "image/png": "[encoded data removed]",
            "text/plain": [
              "<Figure size 432x288 with 1 Axes>"
            ]
          },
          "metadata": {
            "needs_background": "light"
          }
        }
      ]
    },
    {
      "cell_type": "markdown",
      "source": [
        "And if we take the problem in the other way around, we can compute and draw the number of days before the tool breaks:"
      ],
      "metadata": {
        "id": "pYV4VCH29jUD"
      }
    },
    {
      "cell_type": "code",
      "source": [
        "y = []\n",
        "\n",
        "UDI_breaks = []\n",
        "for i in df.UDI:\n",
        "  if df.TWF[i-1] == 1:\n",
        "    UDI_breaks.append(i);\n",
        "print(UDI_breaks)\n",
        "UDI_breaks_iterator = iter(UDI_breaks)\n",
        "actual_break_UDI = next(UDI_breaks_iterator)\n",
        "\n",
        "for i in range(3000):\n",
        "  if i > actual_break_UDI:\n",
        "    print(actual_break_UDI)\n",
        "    actual_break_UDI = next(UDI_breaks_iterator)\n",
        "  y.append(df['Tool wear [min]'][actual_break_UDI-1] - df['Tool wear [min]'][i])\n",
        "  \n",
        "plt.plot(y)\n",
        "plt.plot([0]*3000)"
      ],
      "metadata": {
        "id": "6o01zN1G9sV3",
        "colab": {
          "base_uri": "https://localhost:8080/",
          "height": 511
        },
        "outputId": "dfc32e2e-aa3d-4f2d-b858-1b96b758a9c5"
      },
      "execution_count": null,
      "outputs": [
        {
          "output_type": "stream",
          "name": "stdout",
          "text": [
            "[78, 1088, 1510, 1683, 1764, 1997, 2167, 2245, 2672, 2865, 2942, 3530, 3612, 3696, 3866, 4035, 4208, 4386, 4470, 4647, 4817, 5142, 5310, 5402, 5910, 6000, 6173, 6257, 6341, 6420, 6760, 7088, 7427, 7511, 7688, 7850, 8112, 8200, 8358, 8610, 8691, 8847, 9019, 9175, 9577, 9759]\n",
            "78\n",
            "1088\n",
            "1510\n",
            "1683\n",
            "1764\n",
            "1997\n",
            "2167\n",
            "2245\n",
            "2672\n",
            "2865\n",
            "2942\n"
          ]
        },
        {
          "output_type": "execute_result",
          "data": {
            "text/plain": [
              "[<matplotlib.lines.Line2D at 0x7f684e5bc690>]"
            ]
          },
          "metadata": {},
          "execution_count": 19
        },
        {
          "output_type": "display_data",
          "data": {
            "image/png": "[encoded data removed]",
            "text/plain": [
              "<Figure size 432x288 with 1 Axes>"
            ]
          },
          "metadata": {
            "needs_background": "light"
          }
        }
      ]
    },
    {
      "cell_type": "markdown",
      "source": [
        "Let's have a closer look at our distribution of failure point. Let's compute the mean interval between two tool failures and the variance of it:"
      ],
      "metadata": {
        "id": "xQM3lv7lSomw"
      }
    },
    {
      "cell_type": "code",
      "source": [
        "intervals_length = []\n",
        "for i in df.UDI:\n",
        "  if df.TWF[i-1] == 1:\n",
        "    intervals_length.append(df['Tool wear [min]'][i-1])\n",
        "\n",
        "plt.plot([i for i in range(len(intervals_length))], intervals_length)\n",
        "\n",
        "intervals_length = np.array(intervals_length)\n",
        "print(\"Tool wear failure interval distribution\")\n",
        "print(\"Mean:               {} min\".format(np.mean(intervals_length)))\n",
        "print(\"Variance:           {} min\".format(np.var(intervals_length)))\n",
        "print(\"Standard Deviation:  {} min\".format(np.std(intervals_length)))\n"
      ],
      "metadata": {
        "id": "HeMUYDMIS2st",
        "colab": {
          "base_uri": "https://localhost:8080/",
          "height": 335
        },
        "outputId": "4f926994-8b4f-49aa-8ddc-7dc9a7f367d8"
      },
      "execution_count": null,
      "outputs": [
        {
          "output_type": "stream",
          "name": "stdout",
          "text": [
            "Tool wear failure interval distribution\n",
            "Mean:               216.3695652173913 min\n",
            "Variance:           146.97211720226844 min\n",
            "Standard Deviation:  12.123205731252293 min\n"
          ]
        },
        {
          "output_type": "display_data",
          "data": {
            "image/png": "[encoded data removed]",
            "text/plain": [
              "<Figure size 432x288 with 1 Axes>"
            ]
          },
          "metadata": {
            "needs_background": "light"
          }
        }
      ]
    },
    {
      "cell_type": "markdown",
      "source": [
        "Let's create a dataset with cumulative data (First with the Torque and the Rpm only)"
      ],
      "metadata": {
        "id": "wvMeKdL_wKTm"
      }
    },
    {
      "cell_type": "code",
      "source": [
        "data = {\n",
        "    'Torque':[0]*9999,\n",
        "    'Rpm':[0]*9999,\n",
        "    'ToolWear':[0]*9999,\n",
        "    'Failure':[0]*9999\n",
        "}\n",
        "cumulative_df = pd.DataFrame(data)\n",
        "lastChangePoint = 0\n",
        "for i in range(9999):\n",
        "  cumulative_df['ToolWear'][i] = df['Tool wear [min]'][i]\n",
        "  if df['Tool wear [min]'][i] == 0:\n",
        "    cumulative_df['Torque'][i] = df['Torque [Nm]'][i] * (df['totalTime'][i+1]-df['totalTime'][i])\n",
        "    cumulative_df['Rpm'][i] = df['Rotational speed [rpm]'][i] * (df['totalTime'][i+1]-df['totalTime'][i])\n",
        "  else:\n",
        "    cumulative_df['Torque'][i] = df['Torque [Nm]'][i] * (df['totalTime'][i+1]-df['totalTime'][i]) + cumulative_df['Torque'][i-1]\n",
        "    cumulative_df['Rpm'][i] = df['Rotational speed [rpm]'][i] * (df['totalTime'][i+1]-df['totalTime'][i]) + cumulative_df['Rpm'][i-1]\n",
        "  if df['TWF'][i]==1:\n",
        "    cumulative_df['Failure'][i]=1\n",
        "  else:\n",
        "    cumulative_df['Failure'][i]=0\n",
        "\n",
        "  "
      ],
      "metadata": {
        "id": "D6ajhrj-7zHG"
      },
      "execution_count": null,
      "outputs": []
    },
    {
      "cell_type": "code",
      "source": [
        "cumulative_df.head(80)"
      ],
      "metadata": {
        "id": "A3UuBEOhtX7i"
      },
      "execution_count": null,
      "outputs": []
    },
    {
      "cell_type": "markdown",
      "source": [
        "Let's split in a training and test dataset:"
      ],
      "metadata": {
        "id": "rgCeK4QEt3LV"
      }
    },
    {
      "cell_type": "code",
      "source": [
        "X_train, X_test, y_train, y_test=train_test_split(cumulative_df.drop(['Failure'], axis=1), cumulative_df[['Failure']], test_size=4000)\n",
        "print(np.ravel(np.array(y_train)))"
      ],
      "metadata": {
        "id": "09Uhc6vGt8gX",
        "colab": {
          "base_uri": "https://localhost:8080/"
        },
        "outputId": "1368d773-f9af-449e-e5e4-f59946443a7b"
      },
      "execution_count": null,
      "outputs": [
        {
          "output_type": "stream",
          "name": "stdout",
          "text": [
            "[0 0 0 ... 0 0 0]\n"
          ]
        }
      ]
    },
    {
      "cell_type": "markdown",
      "source": [
        "Let's first try a Logistic regression on the cumulative torque and rpm to predict if there is a tool failure or not."
      ],
      "metadata": {
        "id": "EfOuaR5PLbbM"
      }
    },
    {
      "cell_type": "code",
      "source": [
        "LR_model_1 = LogisticRegression(solver='liblinear', max_iter=2000)\n",
        "LR_model_1.fit(X_train, np.ravel(np.array(y_train)));"
      ],
      "metadata": {
        "id": "fuohXoOEJlGs"
      },
      "execution_count": null,
      "outputs": []
    },
    {
      "cell_type": "code",
      "source": [
        "X_train, X_test, y_train, y_test=train_test_split(cumulative_df.drop(['Failure'], axis=1), cumulative_df[['Failure']], test_size=4000)\n",
        "\n",
        "LR_model_1.fit(X_train, np.ravel(np.array(y_train)));\n",
        "\n",
        "def predict_and_test(LR_model,X,y):\n",
        "  y_hat = LR_model.predict(X)\n",
        "  y = np.array(y)\n",
        "  corrects = 0\n",
        "  corrects_0 = 0\n",
        "  count_1 = 0\n",
        "  count_0 = 0\n",
        "  for i in range(len(y)):\n",
        "    if (y[i] == 1):\n",
        "      count_1 += 1\n",
        "      if(y_hat[i] == y[i]):\n",
        "        corrects+=1\n",
        "    if (y[i]==0):\n",
        "      count_0 += 1\n",
        "      if (y_hat[i] == y[i]):\n",
        "        corrects_0 += 1\n",
        "  print(count_1)\n",
        "  return (corrects/count_1,corrects_0/count_0)\n",
        "\n",
        "\n",
        "accuracy_training = predict_and_test(LR_model_1,X_test,y_test)\n",
        "print(accuracy_training)\n",
        "print(np.sum(np.array(y_test))/len(y_test))"
      ],
      "metadata": {
        "id": "ThFZbKOhKEy9",
        "colab": {
          "base_uri": "https://localhost:8080/"
        },
        "outputId": "b1fb9636-5b3b-489f-c0d2-7b8fa1c68510"
      },
      "execution_count": null,
      "outputs": [
        {
          "output_type": "stream",
          "name": "stdout",
          "text": [
            "15\n",
            "(0.0, 1.0)\n",
            "0.00375\n"
          ]
        }
      ]
    },
    {
      "cell_type": "markdown",
      "source": [
        "We are not getting any results for now because there is way too many 0 compared to 1 in y_test. We should try to diminish the ratio 0/1 by only keeping the one just before the failure."
      ],
      "metadata": {
        "id": "2I05v69EK28V"
      }
    },
    {
      "cell_type": "code",
      "source": [
        ""
      ],
      "metadata": {
        "id": "PwhtHPtSLmN0"
      },
      "execution_count": null,
      "outputs": []
    }
  ]
}